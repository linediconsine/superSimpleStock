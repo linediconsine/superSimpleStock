{
 "cells": [
  {
   "cell_type": "markdown",
   "metadata": {},
   "source": [
    "## Structure (Dataframe) created:\n",
    "StockData [ Stock Symbol, Type, Last Dividend, Fixed Dividend, Par Value,Ticker Price]\n",
    "Trade  [Timestamp, Stock Symbol, Quantity, Buy/Sell, Price]\n",
    "\n",
    "## Functions:\n",
    "addTrade(TimeStamp,Symbol,Quantity,Buy_Sell,Price) \n",
    "CalculateDividedYield(Symbol)\n",
    "CalculatePEratio(Symbol)\n",
    "CalculateStockPrice(Symbol)\n",
    "CalculateGeometricMean(Symbol)\n",
    "CalculateGBCE()"
   ]
  },
  {
   "cell_type": "code",
   "execution_count": 2,
   "metadata": {
    "collapsed": true
   },
   "outputs": [],
   "source": [
    "# Importing \n",
    "import pandas as pd,datetime,calendar,time,random\n",
    "from scipy.stats.mstats import gmean\n",
    "# VISUAL\n",
    "from IPython.display import display"
   ]
  },
  {
   "cell_type": "markdown",
   "metadata": {},
   "source": [
    "## Create Dataframes:"
   ]
  },
  {
   "cell_type": "code",
   "execution_count": 3,
   "metadata": {
    "collapsed": true
   },
   "outputs": [],
   "source": [
    "StockData = pd.read_csv(\"StockExample.csv\").fillna(0);\n",
    "StockData.set_index(['Stock Symbol']);\n",
    "StockData.index = StockData['Stock Symbol'];\n",
    "StockData['Ticker Price'] = -1\n",
    "\n",
    "Trade = pd.read_csv(\"TradeData.csv\").fillna(0);\n",
    "Trade.set_index(['Stock Symbol','Timestamp']);"
   ]
  },
  {
   "cell_type": "markdown",
   "metadata": {},
   "source": [
    "## Functions"
   ]
  },
  {
   "cell_type": "code",
   "execution_count": 4,
   "metadata": {
    "collapsed": true
   },
   "outputs": [],
   "source": [
    "def addTrade(TimeStamp,Symbol,Quantity,Buy_Sell,Price):\n",
    "    Trade.loc[len(Trade)]=[TimeStamp,Symbol,Quantity,Buy_Sell,Price]\n",
    "    StockData.loc[(Symbol,'Ticker Price')] = Price\n",
    "\n",
    "def CalculateDividedYield(Symbol):   \n",
    "    TickerPrice = StockData.loc[(Symbol,'Ticker Price')]\n",
    "    LastDividedYield = StockData.loc[(Symbol,'Last Dividend')]\n",
    "    FixedDividend = float(str(StockData.loc[(Symbol,'Fixed Dividend')]).replace(\"%\",\"\"))  \n",
    "    \n",
    "    if(TickerPrice == -1):\n",
    "        print(\"! CalculateDividedYield:Warining las TickerPrice of \",Symbol,\"not defined\")\n",
    "        return -1\n",
    "    if(FixedDividend != 0):\n",
    "        ParValue = StockData.loc[(Symbol,'Par Value')]\n",
    "        DividentYieldPreferred =  (( float(ParValue) / 100 )  * float(FixedDividend)) / float(TickerPrice)\n",
    "        return DividentYieldPreferred\n",
    "    if(LastDividedYield == 0):\n",
    "        # I want 0 / int = 0\n",
    "        return 0\n",
    "    \n",
    "    return TickerPrice / LastDividedYield\n",
    "\n",
    "def CalculatePEratio(Symbol):   \n",
    "    TickerPrice = StockData.loc[(Symbol,'Ticker Price')]\n",
    "    LastDivided = StockData.loc[(Symbol,'Last Dividend')]\n",
    "    \n",
    "    if(TickerPrice == -1):\n",
    "        print(\"! CalculatePEratio:Warining las TickerPrice of \",Symbol,\"not defined\")\n",
    "        return -1\n",
    "    \n",
    "    if(LastDivided == -1):\n",
    "        print(\"! CalculatePEratio:Warining Divided Yield of \",Symbol,\" not found\")\n",
    "        return -1\n",
    "    \n",
    "    if(LastDivided == 0):\n",
    "        print(\"! CalculatePEratio:Warining Divided Yield of \",Symbol,\" is 0\")\n",
    "        return 0\n",
    "    \n",
    "    return TickerPrice / LastDivided\n",
    "\n",
    "def CalculateStockPrice(Symbol):\n",
    "    Time15MinAgo = calendar.timegm(time.gmtime()) - datetime.timedelta(minutes=15).total_seconds()\n",
    "    TradeLast15ms = Trade[(Trade['Stock Symbol'] == Symbol)  & (Trade['Timestamp'] > Time15MinAgo)]\n",
    "    numTrade = len(TradeLast15ms)\n",
    "\n",
    "    if(numTrade > 0 ):\n",
    "        sumTradeXqty = 0\n",
    "        sumQty = 0\n",
    "    \n",
    "        for idx in range(0, numTrade):\n",
    "            sumTradeXqty += TradeLast15ms.iloc[idx -1]['Price'] * TradeLast15ms.iloc[idx]['Quantity']\n",
    "            sumQty += TradeLast15ms.iloc[idx-1]['Quantity']\n",
    "        return sumTradeXqty / sumQty\n",
    "    else:\n",
    "        return 0\n",
    "\n",
    "def CalculateGeometricMean(Symbol):\n",
    "    return gmean(Trade[Trade['Stock Symbol'] == Symbol]['Price'])\n",
    "\n",
    "def CalculateGBCE():   \n",
    "    GBCE = {}\n",
    "    StockSymbols = Trade['Stock Symbol'].unique()\n",
    "    numSymbols = len(StockSymbols)\n",
    "    \n",
    "    for idx in range(0, numSymbols):\n",
    "        symbol = StockSymbols[idx -1]\n",
    "        TradeSymbol = Trade[Trade['Stock Symbol'] == symbol]\n",
    "        numTrade = len(TradeSymbol)\n",
    "        if(numTrade > 0 ):\n",
    "            sumTradeXqty = 0\n",
    "            sumQty = 0\n",
    "            \n",
    "            for id2 in range(0, numTrade):\n",
    "                sumTradeXqty += TradeSymbol.iloc[id2 -1]['Price'] * TradeSymbol.iloc[id2]['Quantity']\n",
    "                sumQty += TradeSymbol.iloc[id2-1]['Quantity']\n",
    "            if(sumQty == 0):\n",
    "                print(\"! CalculateGBCE:Warining sumQty of \",symbol,\" is 0\")\n",
    "                GBCE[symbol] = -1\n",
    "            else:\n",
    "                GBCE[symbol] = sumTradeXqty / sumQty\n",
    "    return GBCE"
   ]
  },
  {
   "cell_type": "markdown",
   "metadata": {
    "collapsed": true
   },
   "source": [
    "# Simple tests"
   ]
  },
  {
   "cell_type": "code",
   "execution_count": 14,
   "metadata": {},
   "outputs": [
    {
     "data": {
      "text/plain": [
       "'## Tests and checking assertions,'"
      ]
     },
     "metadata": {},
     "output_type": "display_data"
    },
    {
     "data": {
      "text/plain": [
       "\"NOTE: If you don't see any message the assertion are verified\""
      ]
     },
     "metadata": {},
     "output_type": "display_data"
    }
   ],
   "source": [
    "# Use clean Datasets\n",
    "StockData = pd.read_csv(\"StockExample.csv\").fillna(0);\n",
    "StockData.set_index(['Stock Symbol']);\n",
    "StockData.index = StockData['Stock Symbol'];\n",
    "StockData['Ticker Price'] = -1\n",
    "\n",
    "Trade = pd.read_csv(\"TradeData.csv\").fillna(0);\n",
    "Trade.set_index(['Stock Symbol','Timestamp']);\n",
    "\n",
    "display(\"## Tests and checking assertions,\")\n",
    "display(\"NOTE: If you don't see any message the assertion are verified\")\n",
    "\n",
    "TimeStamp = calendar.timegm(time.gmtime())\n",
    "addTrade(TimeStamp,'TEA',20,'Buy',20);\n",
    "# Last divident = 0\n",
    "# Ticker Price = 20\n",
    "# Expected Divided Yield = 0\n",
    "assert CalculateDividedYield('TEA') == 0\n",
    "\n",
    "# Testing preferred mode\n",
    "# 2% of 100 = 2\n",
    "# Ticker Price = 20\n",
    "# 2 / 20 = 0.1\n",
    "addTrade(TimeStamp,'GIN',20,'Buy',20);\n",
    "assert CalculateDividedYield('GIN') == 0.1\n",
    "\n",
    "# Testing P/E Ration\n",
    "# Ticker price = 20\n",
    "# Last Divident GIN = 8\n",
    "# Results = 20 / 8 = 2.5\n",
    "assert CalculatePEratio('GIN') == 2.5\n",
    "\n",
    "# Calculate Stock Price\n",
    "# Stock Price GIN = 38.182\n",
    "addTrade(TimeStamp,'GIN',20,'Buy',20);\n",
    "addTrade(TimeStamp,'GIN',20,'Buy',20);\n",
    "addTrade(TimeStamp,'GIN',20,'Buy',20);\n",
    "assert round(CalculateStockPrice('GIN'),3) == 20.0\n",
    "\n",
    "\n",
    "# Calculate GBCE\n",
    "GBCE = CalculateGBCE()\n",
    "assert round(GBCE['ALE'],3) == 155.0\n",
    "assert round(GBCE['GIN'],3) == 20.0\n",
    "assert round(GBCE['JOE'],3) == 126.0\n",
    "assert round(GBCE['POP'],3) == 105.0\n",
    "assert round(GBCE['TEA'],3) == 60.909"
   ]
  },
  {
   "cell_type": "code",
   "execution_count": null,
   "metadata": {
    "collapsed": true
   },
   "outputs": [],
   "source": []
  }
 ],
 "metadata": {
  "kernelspec": {
   "display_name": "Python 3",
   "language": "python",
   "name": "python3"
  },
  "language_info": {
   "codemirror_mode": {
    "name": "ipython",
    "version": 3
   },
   "file_extension": ".py",
   "mimetype": "text/x-python",
   "name": "python",
   "nbconvert_exporter": "python",
   "pygments_lexer": "ipython3",
   "version": "3.5.3"
  }
 },
 "nbformat": 4,
 "nbformat_minor": 2
}
